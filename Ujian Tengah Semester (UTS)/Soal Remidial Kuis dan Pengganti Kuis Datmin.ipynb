{
  "cells": [
    {
      "attachments": {},
      "cell_type": "markdown",
      "metadata": {
        "id": "njG3GuhLFV8q"
      },
      "source": [
        "# Soal No 1\n",
        "# <p style=\"text-align: center;\"> Uji Chi Square (2x2) </p>\n",
        "\n",
        "Adalah Uji Statistik yang digunakan dalam analisis tabel kontingensi yang bertujuan untuk menguji apakah terdapat hubungan dalam dua variabel kategorik\n",
        "dimana asumsinya frekuensi harapan (expected count) untuk setiap sel minimal 5 atau lebih. Dengan kata lain data yang terlibat dalam uji Pearson Chi-square haruslah banyak. <br/>\n",
        "Pada uji ini, subjek diklasifikasi menurut dua variabel yaitu D (disease) dan E (exposure), yang diukur pada saat yang sama. Data hasil pengukuran diringkaskan dalam tabel berikut.\n",
        "\n",
        "<center>\n",
        "\n",
        "|             |    Disease 1   |    Disease 2   |          Total     |\n",
        "|:-----------:|:--------------:|:--------------:|:------------------:|\n",
        "| Eksposure 1 |      x_11      |      x_12      |x_11+x_12|\n",
        "| Eksposure 2 |      x_21      |      x_22      |x_21+x_22|\n",
        "|    Total    | x_11+x_21| x_12+x_22| N       |\n",
        "\n",
        "</center>\n",
        "\n",
        "Dengan total besar sampel n adalah yang fixed dalam studi ini. <br/> <br/>\n",
        "Statistik uji yang digunakan untuk mengetaui adanya hubungan atau asosiasi antara exposure dengan disease adalah :\n",
        "$$\\chi^{2} = \\sum_{x = a}^{b} \\frac{(F_o-F_e)^2}{F_e}$$\n",
        "\n",
        "Keterangan : \n",
        "1. $F_o$ : Frekuensi Observed (Frekuensi Asli)\n",
        "2. $F_e$ : Frekuensi Expecter (Frekuensi Harapan)\n",
        "\n",
        "Dengan :\n",
        "\n",
        "$$F_e = \\frac{\\text{Total  baris}*\\text{Total kolom}}{\\text{Total Sample}}$$\n",
        "\n",
        "Jika tidak ada hubungan antara exposure dengan disease, maka $\\chi^2$ mengikuti distribusi chi-square dengan derajat bebas $1$. Dengan menggunakan tabel distribusi ini dapat digunakan untuk memperoleh tingkat signifikansi (P-values). <br/>Ukuran asosiasi yang digunakan dalam uji ini adalah OR (Odds Ratio) yang didefinisikan sebagai :\n",
        "\n",
        "$$OR = \\frac{x_{11}*x_{22}}{x_{12}*x_{21}}$$\n",
        "\n",
        "Pengambilan kesimpulan untuk uji ini ada 2 yaitu :\n",
        "1. Menggunakan interval konfidensi dari OR yaitu :\n",
        "    * Jika Interval Konfidensi  melewati angka 1 → tidak ada hubungan \n",
        "    * Jika Interval Konfidensi tidak melewati angka 1 → ada hubungan\n",
        "\n",
        "    Dengan :\n",
        "    $$CI_{OR} = e^{[ln(OR) \\pm 1.96\\sqrt{\\frac{1}{a}+\\frac{1}{b}+\\frac{1}{c}+\\frac{1}{d}}]} $$\n",
        "\n",
        "    <br/>\n",
        "2. Menggunakan P-Value atau Nilai $\\chi^2$ \n",
        "\n",
        "Hipotesis untuk test ini adalah :\n",
        "\n",
        "* $H_0$ : Tidak ada hubungan antara eksposure dan disease <br/>\n",
        "* $H_1$ : ada hubungan antara eksposure dan disease <br/>\n",
        "\n",
        "$H_0$ ditolak jika : \n",
        "* $\\chi^2_{hit} > \\chi^2_{tab}$  atau $P_{value}$ < 0.05\n",
        "* Interval Konfidensi tidak melewati angka 1\n",
        "\n",
        "# Instruksi :\n",
        "Diketahui rangkuman data sebagai berikut :\n",
        "\n",
        "<center>\n",
        "\n",
        "|             |    Sakit Perut Ya   |    Sakit Perut Tidak   |\n",
        "|:-----------:|:--------------:|:--------------:|\n",
        "| Makan Sambal Ya |      109      |      116      |\n",
        "| Makan Sambal Tidak |      4      |      84      |\n",
        "\n",
        "</center>\n",
        "Bagaimana pengaruh konsumsi sambal terhadap ya tidaknya terjadi sakit perut?\n",
        "\n",
        "Carilah :\n",
        "* Frekuensi harapan masing masing data\n",
        "* Chi Square Value\n",
        "* P-Value\n",
        "* Critical Value\n",
        "* Odds Ratio\n",
        "* Lower Confidence Interval\n",
        "* Upper Confidence Interval\n",
        "\n",
        "# Batasan !\n",
        "* Dilarang menggunakan fungsi selain yang sudah didefinisikan dalam soal ! kecuali untuk bebrapa fungsi berikut :\n",
        "    * np.sum()\n",
        "    * np.zeros()\n",
        "    * np.exp()\n",
        "    * np.array()\n",
        "    * np.sqrt()\n",
        "* Dilarang men-assign object/variabel dengan skalar/konstanta saja atau dengan kata lain menggunakan hasil perhitungan manual ! \n",
        "    Contoh  x = 1\n",
        "\n",
        "# Output Contoh \n",
        "![Contoh Output.png](data:image/png;base64,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)"
      ]
    },
    {
      "cell_type": "code",
      "execution_count": null,
      "metadata": {
        "id": "7rkK7DKPFV8r"
      },
      "outputs": [],
      "source": [
        "# Don't edit this cell, just run it !\n",
        "import numpy as np\n",
        "from scipy import stats"
      ]
    },
    {
      "cell_type": "code",
      "execution_count": null,
      "metadata": {
        "id": "gtW3YJs-FV8s"
      },
      "outputs": [],
      "source": [
        "# Graded Line \n",
        "# Define the data \n",
        "data = np.array([[None, None], [None,None]]) # Replace None with the data points"
      ]
    },
    {
      "cell_type": "code",
      "execution_count": null,
      "metadata": {
        "id": "22OtCux3FV8s"
      },
      "outputs": [],
      "source": [
        "# Graded Function\n",
        "# Function : find expected frequency\n",
        "def expected_frequency(data):\n",
        "    \"\"\"Function to find the expected frequency of the data points in the contingency table.\n",
        "    Args:\n",
        "        data (numpy.ndarray): Data points in the contingency table.\n",
        "    Returns:\n",
        "        numpy.ndarray: Expected frequency of the data points in the contingency table.\n",
        "    \"\"\"\n",
        "    # Your Code Starts Here\n",
        "    # Calculate the total number of observations\n",
        "    None\n",
        "\n",
        "    # Calculate the row-wise sum of the data\n",
        "    None\n",
        "\n",
        "    # Calculate the column-wise sum of the data\n",
        "    None\n",
        "\n",
        "    # Create an empty array to store the expected frequency\n",
        "    None\n",
        "\n",
        "    # Iterate over the rows data\n",
        "    \n",
        "        # iterate over the columns data\n",
        "        \n",
        "            # Calculate the expected frequency for each cell\n",
        "           \n",
        "\n",
        "    # Your Code Here\n",
        "    # Replace None with the correct return statement\n",
        "    return np.array(None)"
      ]
    },
    {
      "cell_type": "code",
      "execution_count": null,
      "metadata": {
        "id": "bj0ZJlvzFV8s"
      },
      "outputs": [],
      "source": [
        "# Graded Function\n",
        "# Function : find chi-square value\n",
        "def chi_square(data):\n",
        "    \"\"\" Function to find the chi-square value of the data points in the contingency table.\n",
        "\n",
        "    Args:\n",
        "        data (numpy.ndarray): Data points in the contingency table.\n",
        "    \n",
        "    Returns:\n",
        "        float: Chi-square value of the data points in the contingency table.\n",
        "    \"\"\"\n",
        "    # You can use the function expected_frequency to calculate the expected frequency\n",
        "    # Your code starts here\n",
        "\n",
        "    # Calculate the expected frequency\n",
        "    None\n",
        "    \n",
        "    # Calculate the chi-square value\n",
        "    None\n",
        "\n",
        "    # Your code ends here\n",
        "    # Replace None with the correct return statement\n",
        "    return chi_square_value"
      ]
    },
    {
      "cell_type": "code",
      "execution_count": null,
      "metadata": {
        "id": "fIb7efqfFV8t"
      },
      "outputs": [],
      "source": [
        "# Graded Function\n",
        "# Function : find p-value\n",
        "def p_value(data):\n",
        "    \"\"\" Function to find the p-value of the data points in the contingency table.\n",
        "\n",
        "    Args:\n",
        "        data (numpy.ndarray): Data points in the contingency table.\n",
        "    \n",
        "    Returns:\n",
        "        float: P-value of the data points in the contingency table.\n",
        "    \"\"\"\n",
        "    # You can use the function chi_square to calculate the chi-square value\n",
        "    # Your code starts here\n",
        "    None\n",
        "\n",
        "    None\n",
        "    # Calculate the p-value\n",
        "    p_value = 1 - stats.chi2.cdf(chi_square_value, dof)\n",
        "\n",
        "    # Your code ends here\n",
        "    # Replace None with the correct return statement\n",
        "    return p_value"
      ]
    },
    {
      "cell_type": "code",
      "execution_count": null,
      "metadata": {
        "id": "9BUoVEqcFV8t"
      },
      "outputs": [],
      "source": [
        "# Graded Function\n",
        "# Function : find critical value\n",
        "def critical_value(data, alpha):\n",
        "    \"\"\" Function to find the critical value of the data points in the contingency table.\n",
        "\n",
        "    Args:\n",
        "        data (numpy.ndarray): Data points in the contingency table.\n",
        "        alpha (float): Significance level.\n",
        "    \n",
        "    Returns:\n",
        "        float: Critical value of the data points in the contingency table.\n",
        "\n",
        "    Hints : dof=degree of freedom (defined by calculating the number of rows and columns in the contingency table)\n",
        "    \"\"\"\n",
        "    # You can use the function chi_square to calculate the chi-square value\n",
        "    # Your code starts here\n",
        "\n",
        "    None\n",
        "\n",
        "    # Calculate the critical value\n",
        "    critical_value_data = stats.chi2.ppf(None, dof)\n",
        "\n",
        "    # Your code ends here\n",
        "    # Replace None with the correct return statement\n",
        "    return critical_value_data"
      ]
    },
    {
      "cell_type": "code",
      "execution_count": null,
      "metadata": {
        "id": "8FTfHuv5FV8t"
      },
      "outputs": [],
      "source": [
        "# Graded Function\n",
        "# Function : find Odds Ratio\n",
        "def odds_ratio(data):\n",
        "    \"\"\" Function to find the odds ratio of the data points in the contingency table.\n",
        "\n",
        "    Args:\n",
        "        data (numpy.ndarray): Data points in the contingency table.\n",
        "    \n",
        "    Returns:\n",
        "        float: Odds ratio of the data points in the contingency table.\n",
        "    \"\"\"\n",
        "    # Your code starts here\n",
        "    None\n",
        "\n",
        "    # Your code ends here\n",
        "    # Replace None with the correct return statement\n",
        "    return odds_ratio\n"
      ]
    },
    {
      "cell_type": "code",
      "execution_count": null,
      "metadata": {
        "id": "4750GN2-FV8t"
      },
      "outputs": [],
      "source": [
        "# Graded Function\n",
        "# Function : find Confidence Interval for Odds Ratio\n",
        "def confidence_interval(data, alpha):\n",
        "    \"\"\" Function to find the confidence interval of the odds ratio of the data points in the contingency table.\n",
        "\n",
        "    Args:\n",
        "        data (numpy.ndarray): Data points in the contingency table.\n",
        "        alpha (float): Significance level.\n",
        "    \n",
        "    Returns:\n",
        "        tuple: Confidence interval of the odds ratio of the data points in the contingency table.\n",
        "        Lower Confidence Interval, Upper Confidence Interval\n",
        "    \"\"\"\n",
        "    # Your code starts here\n",
        "    None\n",
        "\n",
        "    # Calculate the confidence interval\n",
        "    None\n",
        "    None\n",
        "\n",
        "    # Your end starts here\n",
        "    # Replace None with the correct return statement\n",
        "    return (None, None)"
      ]
    },
    {
      "cell_type": "code",
      "execution_count": null,
      "metadata": {
        "id": "KKCQ2D7TFV8t",
        "outputId": "e22c8279-f91d-4e54-bd10-b5455851fb77"
      },
      "outputs": [
        {
          "name": "stdout",
          "output_type": "stream",
          "text": [
            "Expected Frequency : \n",
            " [[ 81.23003195 143.76996805]\n",
            " [ 31.76996805  56.23003195]]\n",
            "==============================================================\n",
            "Hipotesis Uji\n",
            "Hipotesis_0: Tidak ada hubungan antara makan sambal dan sakit perut\n",
            "Hipotesis_1: Ada hubungan antara makan sambal dan sakit perut\n",
            "==============================================================\n",
            "Tingkat Signifikansi\n",
            "alpha = 0.05\n",
            "==============================================================\n",
            "Statistik Uji\n",
            "Chi-Square = 52.845759435058554\n",
            "P-Value = 3.608224830031759e-13\n",
            "Critical Value = 3.841458820694124\n",
            "Odds Ratio = 19.732758620689655\n",
            "Lower Confidence Interval = 6.998675082564289\n",
            "Upper Confidence Interval = 55.63649664955354\n",
            "==============================================================\n",
            "Kesimpulan\n",
            "Karena P-Value < alpha, maka hipotesis nol ditolak\n",
            "Maka ada hubungan antara makan sambal dan sakit perut\n",
            "==============================================================\n"
          ]
        }
      ],
      "source": [
        "# Output\n",
        "# Print the expected frequency\n",
        "print(\"Expected Frequency : \\n\", expected_frequency(data))\n",
        "\n",
        "# Hasil Pengujian\n",
        "print(\"==============================================================\")\n",
        "print(\"Hipotesis Uji\")\n",
        "print(\"Hipotesis_0: Tidak ada hubungan antara makan sambal dan sakit perut\")\n",
        "print(\"Hipotesis_1: Ada hubungan antara makan sambal dan sakit perut\")\n",
        "print(\"==============================================================\")\n",
        "print(\"Tingkat Signifikansi\")\n",
        "print(f\"alpha = {0.05}\")\n",
        "print(\"==============================================================\")\n",
        "print(\"Statistik Uji\")\n",
        "print(f\"Chi-Square = {chi_square(data)}\")\n",
        "print(f\"P-Value = {p_value(data)}\")\n",
        "print(f\"Critical Value = {critical_value(data, 0.05)}\")\n",
        "print(f\"Odds Ratio = {odds_ratio(data)}\")\n",
        "print(f\"Lower Confidence Interval = {confidence_interval(data, 0.05)[0]}\")\n",
        "print(f\"Upper Confidence Interval = {confidence_interval(data, 0.05)[1]}\")\n",
        "print(\"==============================================================\")\n",
        "print(\"Kesimpulan\")\n",
        "if p_value(data) < 0.05:\n",
        "    print(\"Karena P-Value < alpha, maka hipotesis nol ditolak\")\n",
        "    print(\"Maka ada hubungan antara makan sambal dan sakit perut\")\n",
        "else:\n",
        "    print(\"Karena P-Value > alpha, maka hipotesis nol diterima\")\n",
        "    print(\"Maka tidak ada hubungan antara makan sambal dan sakit perut\")\n",
        "print(\"==============================================================\")"
      ]
    },
    {
      "attachments": {},
      "cell_type": "markdown",
      "metadata": {},
      "source": [
        "# Soal No 2\n",
        "\n",
        "Susunlah sebuah ringkasan singkat mengenai Hamming distance beserta penjelasan bagaimana cara perhitungan ukuran tersebut. Apa pendapat Anda mengenai ukuran ini jika dibandingkan dengan ukuran kemiripan/ketakmiripan lainnya yang sudah Anda pelajari?\n",
        "\n",
        "Di bawah ini terdapat fungsi hamming_distance yang merupakan implementasi sederhana di python. Berikan komentar (comment) yang berisi penjelasan setiap bagian code di bawah."
      ]
    },
    {
      "cell_type": "code",
      "execution_count": null,
      "metadata": {},
      "outputs": [],
      "source": [
        "# Fungsi pengukur hamming distance\n",
        "def hamming_distance(string_1, string_2):\n",
        "  if len(string_1) != len(string_2):\n",
        "    print(\"Strings must be of equal length.\")\n",
        "  dist_counter = 0\n",
        "  for n in range(len(string_1)):\n",
        "    if string_1[n] != string_2[n]:\n",
        "      dist_counter += 1\n",
        "  return dist_counter"
      ]
    },
    {
      "cell_type": "code",
      "execution_count": null,
      "metadata": {},
      "outputs": [],
      "source": [
        "# Contoh 1 (Contoh tidak perlu diberi comment)\n",
        "string_1 = \"budi seorang mahasiswa\"\n",
        "string_2 = \"luna seorang mahasiswi\"\n",
        "print(hamming_distance(string_1, string_2))"
      ]
    },
    {
      "cell_type": "code",
      "execution_count": null,
      "metadata": {},
      "outputs": [],
      "source": [
        "# Contoh 2 (Contoh tidak perlu diberi comment)\n",
        "string_1 = \"semafore\"\n",
        "string_2 = \"semapore\"\n",
        "print(hamming_distance(string_1, string_2))"
      ]
    },
    {
      "cell_type": "code",
      "execution_count": null,
      "metadata": {},
      "outputs": [],
      "source": [
        "# Contoh 3 (Contoh tidak perlu diberi comment)\n",
        "string_1 = \"sempre milan\"\n",
        "string_2 = \"sempre inter\"\n",
        "print(hamming_distance(string_1, string_2))"
      ]
    },
    {
      "cell_type": "code",
      "execution_count": null,
      "metadata": {},
      "outputs": [],
      "source": [
        "# Contoh 4 (Contoh tidak perlu diberi comment)\n",
        "string_1 = \"m zaki nurkholis\"\n",
        "string_2 = \"hasan zein\"\n",
        "print(hamming_distance(string_1, string_2)) #error karena panjang string berbeda"
      ]
    },
    {
      "attachments": {},
      "cell_type": "markdown",
      "metadata": {},
      "source": [
        "Salah satu aplikasi dari ukuran ini adalah dalam typographical error detection (typo). Sebagai contoh, kata \"menerima\" dapat secara tidak sengaja ditulis sebagai \"menerims\". Nilai hamming distance nya adalah 1, yang berarti terdapat 1 huruf yang berbeda.\n",
        "\n",
        "Susunlah sebuah fungsi yang dapat memperbaiki typo dalam sebuah kalimat dengan menggunakan hamming distance. Uji fungsi yang telah Anda susun untuk memperbaiki kalimat-kalimat berikut. Tampilkan kalimat yang sudah diperbaiki.\n",
        "\n",
        "- aku asalah seornag mahssiswa\n",
        "- kacamsta adalah sebuah alat bsntu penhlihatan bagi pendertia rabun jauh\n",
        "\n",
        "Hint: Anda diberikan sebuah list yang berisi kata yang sering mengalami typo. Bandingkan masing-masing kata dalam kalimat diatas dengan kata yang tertera dalam list. Jika nilai Hamming distance nya <= 2, maka kemungkinan besar kata tersebut mengalami typo.\n",
        "\n",
        "Contoh:\n",
        "\n",
        "Kalimat yang diuji = 'sagu dua tgia'\n",
        "\n",
        "Kamus yang diberikan = ['satu', 'dua', 'tiga', 'empat']\n",
        "\n",
        "Cek kata pertama yaitu 'sagu' terhadap kamus. \n",
        "- Hamming distance 'sagu' dengan 'satu' adalah 1\n",
        "- Hamming distance 'sagu' dengan 'dua' tidak dapat dihitung karena perbedaan jumlah kata\n",
        "- Hamming distance 'satu' dengan 'tiga' adalah 3\n",
        "- Hamming distance 'satu' dengan 'empat' tidak dapat dihitung karena perbedaan jumlah kata\n",
        "\n",
        "Hamming distance terkecil adalah 1. Karena perbedaannya hanya pada 1 huruf, kemungkinan besar telah terjadi typo. Oleh karenanya, kita koreksi kata 'sagu' dengan 'satu'. \n",
        "\n",
        "Lakukan hal yang sama terhadap kata lainnya, yaitu 'dua' dan 'tgia'.\n",
        "\n",
        "Catatan: apabila kata yang typo tidak terdapat di kamus, maka tidak perlu diperbaiki (biarkan saja)."
      ]
    },
    {
      "cell_type": "code",
      "execution_count": null,
      "metadata": {},
      "outputs": [],
      "source": [
        "kamus = ['motor', 'penglihatan', 'mobil', 'pesawat', 'aku', 'kacamata', 'adalah', 'kuda', 'penderita', 'seorang', 'mahasiswa', 'menderita', 'bantu']\n",
        "kalimat_1 = 'aku asalah seornag mahssiswa'\n",
        "kalimat_2 = 'kacamsta adalah sebuah alat bsntu penhlihatan bagi pendertia rabun jauh'\n",
        "\n",
        "def cek_typo(kalimat):\n",
        "  pass\n",
        "\n",
        "cek_typo(kalimat_1)\n",
        "cek_typo(kalimat_2)\n"
      ]
    },
    {
      "attachments": {},
      "cell_type": "markdown",
      "metadata": {},
      "source": [
        "# Soal No 3\n",
        "\n",
        "Anda diberikan sebuah dataset yang berisi catatan penjualan sebuah mall. Sebagai seorang ahli data, seorang stakeholder meminta Anda untuk menyajikan data harian dan bulanan sesuai dengan kriteria tertentu.\n",
        "\n",
        "A. Sajikan sebuah tabel yang berisi Sales dan Profit harian dari setiap jenis kategori produk (Category).\n",
        "\n",
        "B. Sajikan sebuah tabel yang berisi jumlah produk terjual (quantity) bulanan dari setiap Segment yang dikelompokkan berdasarkan Region.\n",
        "\n",
        "Catatan: Date yang digunakan adalah Order Date"
      ]
    },
    {
      "cell_type": "code",
      "execution_count": null,
      "metadata": {},
      "outputs": [],
      "source": [
        "pip install pandas\n",
        "pip install xlrd"
      ]
    },
    {
      "cell_type": "code",
      "execution_count": null,
      "metadata": {},
      "outputs": [],
      "source": [
        "import pandas as pd\n",
        "\n",
        "df = pd.read_excel('Sample - Superstore.xls')\n",
        "df.head()"
      ]
    },
    {
      "cell_type": "code",
      "execution_count": null,
      "metadata": {},
      "outputs": [],
      "source": []
    },
    {
      "attachments": {},
      "cell_type": "markdown",
      "metadata": {},
      "source": [
        "# Soal 4\n",
        "# **$Association Rules$**"
      ]
    },
    {
      "attachments": {},
      "cell_type": "markdown",
      "metadata": {},
      "source": [
        "You are asked to create a Movie Recommendation System using Association Rules for a given dataset. The given dataset is Movie lens dataset. The dataset lists movies, user ratings, tags, etc. You are asked to build a recommendation system that can provide recommendations for movies that customers may want to see based on movies that have been seen before.<br>\n",
        "We will be using Movie Lens dataset (ml-25m) describes 5-star rating and free-text tagging activity from MovieLens, a movie recommendation service. It contains 27753444 ratings and 1,129 tag applications across 62,000 movies. These data were created by 162,000 users released December 2019."
      ]
    },
    {
      "attachments": {},
      "cell_type": "markdown",
      "metadata": {},
      "source": [
        "<span style=\"color:red\">**Your Task is as Follows:**</span><br>\n",
        "- Preprocess the dataset to create a transactional list were every row represent a user and his selected movies\n",
        "- Transform the preprocessed movie merge list into binary input\n",
        "- Frequent Itemset Mining: Use FP-Growth and Apriori algorithms to find items that frequently co-occur in the dataset\n",
        "    - Code Apriori Algorithm\n",
        "    - Make Explanation about the result\n",
        "    - Code FP-Growth Algorithm\n",
        "    - Make Explanation about the result\n",
        "- Use the discovered frequent itemset to find association rules between items that appear together in the dataset.\n",
        "    - Code Association Rules\n",
        "    - Sort value by confidence and lift\n",
        "    - Make Explanation about the result\n",
        "- Run All Code\n",
        "\n",
        "Write your code in the $pass$ and dont change the variabels name"
      ]
    },
    {
      "cell_type": "code",
      "execution_count": null,
      "metadata": {},
      "outputs": [],
      "source": [
        "import numpy as np\n",
        "import pandas as pd\n",
        "import matplotlib.pyplot as plt\n",
        "%matplotlib inline\n",
        "pd.set_option('display.max_columns', 500)\n",
        "pd.set_option('display.width', 1000)"
      ]
    },
    {
      "attachments": {},
      "cell_type": "markdown",
      "metadata": {},
      "source": [
        "# $Dataset$"
      ]
    },
    {
      "attachments": {},
      "cell_type": "markdown",
      "metadata": {},
      "source": [
        "## Importing Dataset"
      ]
    },
    {
      "cell_type": "code",
      "execution_count": null,
      "metadata": {},
      "outputs": [],
      "source": [
        "#Download Data Using request, must be executed, and will add the dataset to your main directory.\n",
        "import requests, zipfile, io\n",
        "zipfile.ZipFile(io.BytesIO(requests.get('https://files.grouplens.org/datasets/movielens/ml-25m.zip').content)).extractall()"
      ]
    },
    {
      "attachments": {},
      "cell_type": "markdown",
      "metadata": {},
      "source": [
        "## Selecting Data"
      ]
    },
    {
      "cell_type": "code",
      "execution_count": null,
      "metadata": {},
      "outputs": [],
      "source": [
        "ls -a ml-25m"
      ]
    },
    {
      "cell_type": "code",
      "execution_count": null,
      "metadata": {},
      "outputs": [],
      "source": [
        "data_movies = pd.read_csv('ml-25m/movies.csv')\n",
        "data_tages = pd.read_csv('ml-25m/tags.csv')\n",
        "data_ratings = pd.read_csv('ml-25m/ratings.csv')"
      ]
    },
    {
      "attachments": {},
      "cell_type": "markdown",
      "metadata": {},
      "source": [
        "## Exploratory"
      ]
    },
    {
      "attachments": {},
      "cell_type": "markdown",
      "metadata": {},
      "source": [
        "### **Movies Data** <br>\n",
        "This is the only dataset that contains the titile of the movies and each movie unique key without Duplicate Value."
      ]
    },
    {
      "cell_type": "code",
      "execution_count": null,
      "metadata": {},
      "outputs": [],
      "source": [
        "data_movies.head()"
      ]
    },
    {
      "cell_type": "code",
      "execution_count": null,
      "metadata": {},
      "outputs": [],
      "source": [
        "data_movies.movieId.value_counts(), print('Number of duplicated unique ids are: ',data_movies.movieId.duplicated().sum())"
      ]
    },
    {
      "attachments": {},
      "cell_type": "markdown",
      "metadata": {},
      "source": [
        "### **Movies tages Data** <br>\n",
        "This dataset contain the added tags to the movie plus the userid which is valuable to be considered as an index to each transaction, on the other hand the dataset has less movie ids than the rating dataset which made us select it instead."
      ]
    },
    {
      "cell_type": "code",
      "execution_count": null,
      "metadata": {},
      "outputs": [],
      "source": [
        "data_tages.head()"
      ]
    },
    {
      "cell_type": "code",
      "execution_count": null,
      "metadata": {},
      "outputs": [],
      "source": [
        "data_tages.movieId.value_counts()"
      ]
    },
    {
      "attachments": {},
      "cell_type": "markdown",
      "metadata": {},
      "source": [
        "### **Movies Ratings Data** <br>\n",
        "This dataset contain the added tags to the movie plus the userid which is valuable to be considered as an index to each transaction, on the other hand the dataset has less movie ids than the rating dataset which made us select it instead."
      ]
    },
    {
      "cell_type": "code",
      "execution_count": null,
      "metadata": {},
      "outputs": [],
      "source": [
        "data_ratings.head()"
      ]
    },
    {
      "cell_type": "code",
      "execution_count": null,
      "metadata": {},
      "outputs": [],
      "source": [
        "data_ratings.movieId.value_counts()"
      ]
    },
    {
      "attachments": {},
      "cell_type": "markdown",
      "metadata": {},
      "source": [
        "# $Preprocessing$"
      ]
    },
    {
      "attachments": {},
      "cell_type": "markdown",
      "metadata": {},
      "source": [
        "### **Merging Dataset** <br>\n",
        "in this case inner join is selected since we need the data only when both movieId labels are existed on both datasets."
      ]
    },
    {
      "cell_type": "code",
      "execution_count": null,
      "metadata": {},
      "outputs": [],
      "source": [
        "merge = data_movies.merge(data_tages,on = 'movieId',how = 'inner')\n",
        "merge"
      ]
    },
    {
      "attachments": {},
      "cell_type": "markdown",
      "metadata": {},
      "source": [
        "### **Drop Variable** <br>\n",
        "Dropping Unneeded Columns"
      ]
    },
    {
      "cell_type": "code",
      "execution_count": null,
      "metadata": {},
      "outputs": [],
      "source": [
        "merge.drop(columns=['tag','timestamp','genres'],inplace=True)"
      ]
    },
    {
      "cell_type": "code",
      "execution_count": null,
      "metadata": {},
      "outputs": [],
      "source": [
        "merge"
      ]
    },
    {
      "cell_type": "code",
      "execution_count": null,
      "metadata": {},
      "outputs": [],
      "source": [
        "len(merge.userId.unique()) "
      ]
    },
    {
      "attachments": {},
      "cell_type": "markdown",
      "metadata": {},
      "source": [
        "<span style=\"color:blue\">**Code Task 1**</span><br>"
      ]
    },
    {
      "attachments": {},
      "cell_type": "markdown",
      "metadata": {},
      "source": [
        "Here you can preprocess the dataset to create a transactional list were every row represent a user and his selected movies using groupby"
      ]
    },
    {
      "cell_type": "code",
      "execution_count": null,
      "metadata": {},
      "outputs": [],
      "source": [
        "merge_list = pass\n",
        "\n",
        "merge_list.head()"
      ]
    },
    {
      "attachments": {},
      "cell_type": "markdown",
      "metadata": {},
      "source": [
        "Let's validate the created list per userId"
      ]
    },
    {
      "cell_type": "code",
      "execution_count": null,
      "metadata": {},
      "outputs": [],
      "source": [
        "print(len(merge.userId.unique()))\n",
        "print(len(merge_list))"
      ]
    },
    {
      "cell_type": "code",
      "execution_count": null,
      "metadata": {},
      "outputs": [],
      "source": [
        "merge_list"
      ]
    },
    {
      "attachments": {},
      "cell_type": "markdown",
      "metadata": {},
      "source": [
        "### **Transforming Data** <br>\n",
        "Here data is transfered as a binary input to be accepted by the algorithm.<br>\n",
        "Your Task is to transform the data into binary input with methods you had explore and name it df"
      ]
    },
    {
      "attachments": {},
      "cell_type": "markdown",
      "metadata": {},
      "source": [
        "<span style=\"color:blue\">**Code Task 2**</span><br>\n",
        "You can use all package you had explore"
      ]
    },
    {
      "cell_type": "code",
      "execution_count": null,
      "metadata": {},
      "outputs": [],
      "source": [
        "df = pass\n",
        "df"
      ]
    },
    {
      "cell_type": "code",
      "execution_count": null,
      "metadata": {},
      "outputs": [],
      "source": [
        "df.shape"
      ]
    },
    {
      "attachments": {},
      "cell_type": "markdown",
      "metadata": {},
      "source": [
        "# $Process$"
      ]
    },
    {
      "attachments": {},
      "cell_type": "markdown",
      "metadata": {},
      "source": [
        "## Frequent Items <br>\n",
        "This section implement the use of the itemsets generation according to the selected parameters. <br>"
      ]
    },
    {
      "attachments": {},
      "cell_type": "markdown",
      "metadata": {},
      "source": [
        "### **Apriori** <br>\n",
        "your task is to code Apriori with 1% minimum support value, and give explanation from the result"
      ]
    },
    {
      "attachments": {},
      "cell_type": "markdown",
      "metadata": {},
      "source": [
        "<span style=\"color:blue\">**Code Task 3**</span><br>"
      ]
    },
    {
      "cell_type": "code",
      "execution_count": null,
      "metadata": {},
      "outputs": [],
      "source": [
        "apriori_frequent_itemsets = pass"
      ]
    },
    {
      "cell_type": "code",
      "execution_count": null,
      "metadata": {},
      "outputs": [],
      "source": [
        "apriori_frequent_itemsets['itemsets'].apply(lambda x: len(x)).value_counts()"
      ]
    },
    {
      "cell_type": "code",
      "execution_count": null,
      "metadata": {},
      "outputs": [],
      "source": [
        "apriori_frequent_itemsets['support'].describe()"
      ]
    },
    {
      "attachments": {},
      "cell_type": "markdown",
      "metadata": {},
      "source": [
        "<span style=\"color:red\">**Give Your Explanation Here!**</span>\n",
        "<br>"
      ]
    },
    {
      "cell_type": "markdown",
      "metadata": {},
      "source": []
    },
    {
      "attachments": {},
      "cell_type": "markdown",
      "metadata": {},
      "source": [
        "### **Fpgrowth** <br>\n",
        "your task is to code Fpgrowth from frequent itemset with 1% minimum support value threshold, and give explanation from the result"
      ]
    },
    {
      "attachments": {},
      "cell_type": "markdown",
      "metadata": {},
      "source": [
        "<span style=\"color:blue\">**Code Task 4**</span><br>"
      ]
    },
    {
      "cell_type": "code",
      "execution_count": null,
      "metadata": {},
      "outputs": [],
      "source": [
        "fpgrowth_frequent_itemsets = pass"
      ]
    },
    {
      "cell_type": "code",
      "execution_count": null,
      "metadata": {},
      "outputs": [],
      "source": [
        "fpgrowth_frequent_itemsets['itemsets'].apply(lambda x: len(x)).value_counts()"
      ]
    },
    {
      "cell_type": "code",
      "execution_count": null,
      "metadata": {},
      "outputs": [],
      "source": [
        "fpgrowth_frequent_itemsets['support'].describe()"
      ]
    },
    {
      "attachments": {},
      "cell_type": "markdown",
      "metadata": {},
      "source": [
        "<span style=\"color:red\">**Give Your Explanation Here!**</span>\n",
        "<br>"
      ]
    },
    {
      "cell_type": "markdown",
      "metadata": {},
      "source": []
    },
    {
      "attachments": {},
      "cell_type": "markdown",
      "metadata": {},
      "source": [
        "## Association Rule<br>\n",
        "Lets create new feature that can be used for further analysis, Apply the association rules from the result of the previous algorithm"
      ]
    },
    {
      "attachments": {},
      "cell_type": "markdown",
      "metadata": {},
      "source": [
        "<span style=\"color:blue\">**Code Task 5**</span><br>"
      ]
    },
    {
      "cell_type": "code",
      "execution_count": null,
      "metadata": {},
      "outputs": [],
      "source": [
        "rules = pass"
      ]
    },
    {
      "attachments": {},
      "cell_type": "markdown",
      "metadata": {},
      "source": [
        "<span style=\"color:blue\">**Code Task 6**</span><br>\n",
        "Sort values by confidence and lift"
      ]
    },
    {
      "cell_type": "code",
      "execution_count": null,
      "metadata": {},
      "outputs": [],
      "source": [
        "rules = pass"
      ]
    },
    {
      "cell_type": "code",
      "execution_count": null,
      "metadata": {},
      "outputs": [],
      "source": [
        "rules[rules[\"antecedents\"].apply(lambda x: \"Inception (2010)\" in str(x))].groupby(\n",
        "    ['antecedents', 'consequents'])[['confidence']].max().sort_values(ascending=False,\n",
        "                                                                      by='confidence').head(10).plot(kind='bar').invert_xaxis()\n",
        "plt.title('Top movies that are likley to be watched with inception');"
      ]
    },
    {
      "attachments": {},
      "cell_type": "markdown",
      "metadata": {},
      "source": [
        "# $Visualize Association Rules with (Networkx)$ <br>\n",
        "(FYI Exploring the result)<br>to see network visualization between movies based on association rules"
      ]
    },
    {
      "cell_type": "code",
      "execution_count": null,
      "metadata": {},
      "outputs": [],
      "source": [
        "rules['antecedents'] = rules.antecedents.apply(lambda x: next(iter(x)))\n",
        "rules['consequents'] = rules.consequents.apply(lambda x: next(iter(x)))"
      ]
    },
    {
      "cell_type": "code",
      "execution_count": null,
      "metadata": {},
      "outputs": [],
      "source": [
        "import plotly.graph_objs as go\n",
        "from plotly.offline import init_notebook_mode, iplot\n",
        "\n",
        "import networkx as nx\n",
        "import warnings\n",
        "warnings.filterwarnings('ignore')\n",
        "\n",
        "init_notebook_mode(connected=True)\n",
        "\n",
        "# Create a Plotly figure\n",
        "fig = go.Figure()\n",
        "\n",
        "edges = nx.from_pandas_edgelist(rules.sort_values(ascending=False,by='lift')\n",
        "                           ,source='antecedents',target='consequents',edge_attr=None)\n",
        "pos = nx.spring_layout(edges, seed=42)  # use spring_layout instead\n",
        "# Add edges as scatter trace\n",
        "edge_x = []\n",
        "edge_y = []\n",
        "for edge in edges.edges():\n",
        "    x0, y0 = pos[edge[0]]\n",
        "    x1, y1 = pos[edge[1]]\n",
        "    edge_x.append(x0)\n",
        "    edge_x.append(x1)\n",
        "    edge_x.append(None)\n",
        "    edge_y.append(y0)\n",
        "    edge_y.append(y1)\n",
        "    edge_y.append(None)\n",
        "\n",
        "edge_trace = go.Scatter(\n",
        "    x=edge_x, y=edge_y,\n",
        "    line=dict(width=0.5, color='#888'),\n",
        "    hoverinfo='none',\n",
        "    mode='lines')\n",
        "\n",
        "fig.add_trace(edge_trace)\n",
        "\n",
        "# Add nodes as scatter trace\n",
        "node_x = []\n",
        "node_y = []\n",
        "node_text = []\n",
        "for node in edges.nodes():\n",
        "    x, y = pos[node]\n",
        "    node_x.append(x)\n",
        "    node_y.append(y)\n",
        "    node_text.append(node)\n",
        "\n",
        "node_trace = go.Scatter(\n",
        "    x=node_x, y=node_y,\n",
        "    mode='markers',\n",
        "    hoverinfo='text',\n",
        "    marker=dict(\n",
        "        showscale=False,\n",
        "        colorscale='YlGnBu',\n",
        "        reversescale=True,\n",
        "        color=[],\n",
        "        size=10,\n",
        "        line_width=2))\n",
        "\n",
        "node_trace.text = node_text\n",
        "fig.add_trace(node_trace)\n",
        "\n",
        "# Set layout and display the figure\n",
        "fig.update_layout(\n",
        "    title='Top 100 movies in term of (lift)',\n",
        "    title_font_size=25,\n",
        "    font_size=18,\n",
        "    showlegend=False,\n",
        "    hovermode='closest',\n",
        "    margin=dict(b=20,l=5,r=5,t=40),\n",
        "    xaxis=dict(showgrid=False, zeroline=False, showticklabels=False),\n",
        "    yaxis=dict(showgrid=False, zeroline=False, showticklabels=False))\n",
        "\n",
        "iplot(fig)"
      ]
    },
    {
      "cell_type": "code",
      "execution_count": null,
      "metadata": {},
      "outputs": [],
      "source": []
    }
  ],
  "metadata": {
    "colab": {
      "provenance": []
    },
    "kernelspec": {
      "display_name": "tensorflow_gpu_zein",
      "language": "python",
      "name": "python3"
    },
    "language_info": {
      "codemirror_mode": {
        "name": "ipython",
        "version": 3
      },
      "file_extension": ".py",
      "mimetype": "text/x-python",
      "name": "python",
      "nbconvert_exporter": "python",
      "pygments_lexer": "ipython3",
      "version": "3.10.0"
    },
    "orig_nbformat": 4
  },
  "nbformat": 4,
  "nbformat_minor": 0
}
