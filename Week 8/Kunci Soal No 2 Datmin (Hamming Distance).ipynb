{
 "cells": [
  {
   "attachments": {},
   "cell_type": "markdown",
   "metadata": {},
   "source": [
    "Susunlah sebuah ringkasan singkat mengenai Hamming distance beserta penjelasan bagaimana cara perhitungan ukuran tersebut. Apa pendapat Anda mengenai ukuran ini jika dibandingkan dengan ukuran kemiripan/ketakmiripan lainnya yang sudah Anda pelajari?\n",
    "\n",
    "Di bawah ini terdapat fungsi hamming_distance yang merupakan implementasi sederhana di python. Berikan komentar (comment) yang berisi penjelasan setiap bagian code di bawah."
   ]
  },
  {
   "attachments": {},
   "cell_type": "markdown",
   "metadata": {},
   "source": [
    "Hamming distance (jarak hamming) adalah salah satu ukuran perbedaan antara dua strings. Ia mengukur berapa banyak karakter dalam posisi yang sama yang memiliki nilai berbeda. Sebagai contoh, kata 'saya' dan 'sayu' memiliki hamming distance sebesar 1, sedangkan kata 'belanja' dan 'bekerja' memiliki hamming distance sebesar 3.\n",
    "\n",
    "Perlu diperhatikan bahwa hamming distance hanya dapat diukur ketika kedua string memiliki panjang yang sama. Jika dibandingkan dengan ukuran ketidakmiripan lainnya (baik corpus based, string based, atau lainnya), hamming distance sangatlah sederhana karena ia hanya membandingkan dua string di tingkat karakter dan mengasumsikan bahwa kedua string memiliki panjang yang sama. Penggunaannya lebih banyak dalam dunia informasi digital dan kriptografi."
   ]
  },
  {
   "cell_type": "code",
   "execution_count": 2,
   "metadata": {},
   "outputs": [],
   "source": [
    "# Fungsi pengukur hamming distance\n",
    "#Definisikan sebuah fungsi yang menerima 2 string\n",
    "def hamming_distance(string_1, string_2): \n",
    "  if len(string_1) != len(string_2): #jika kedua string memiliki panjang berbeda, maka hamming distance tidak bisa dihitung.\n",
    "    print(\"Strings must be of equal length.\") #tampilkan error message ketika hamming distance tidak bisa diukur.\n",
    "  dist_counter = 0 #siapkan sebuah objek untuk menyimpan hamming distance\n",
    "  for n in range(len(string_1)): #lakukan loop terhadap setiap karakter\n",
    "    if string_1[n] != string_2[n]: #jika karakter ke-n pada string_1 berbeda dari karakter ke-n pada string_2...\n",
    "      dist_counter += 1 #maka jarak hamming bertambah 1\n",
    "  return dist_counter #kembalikan hasilnya"
   ]
  },
  {
   "cell_type": "code",
   "execution_count": 12,
   "metadata": {},
   "outputs": [
    {
     "name": "stdout",
     "output_type": "stream",
     "text": [
      "4\n"
     ]
    }
   ],
   "source": [
    "# Contoh 1 (Contoh tidak perlu diberi comment)\n",
    "string_1 = \"budi seorang mahasiswa\"\n",
    "string_2 = \"luna seorang mahasiswi\"\n",
    "print(hamming_distance(string_1, string_2))"
   ]
  },
  {
   "cell_type": "code",
   "execution_count": 22,
   "metadata": {},
   "outputs": [
    {
     "name": "stdout",
     "output_type": "stream",
     "text": [
      "1\n"
     ]
    }
   ],
   "source": [
    "# Contoh 2 (Contoh tidak perlu diberi comment)\n",
    "string_1 = \"semafore\"\n",
    "string_2 = \"semapore\"\n",
    "print(hamming_distance(string_1, string_2))"
   ]
  },
  {
   "cell_type": "code",
   "execution_count": 23,
   "metadata": {},
   "outputs": [
    {
     "name": "stdout",
     "output_type": "stream",
     "text": [
      "5\n"
     ]
    }
   ],
   "source": [
    "# Contoh 3 (Contoh tidak perlu diberi comment)\n",
    "string_1 = \"sempre milan\"\n",
    "string_2 = \"sempre inter\"\n",
    "print(hamming_distance(string_1, string_2))"
   ]
  },
  {
   "cell_type": "code",
   "execution_count": null,
   "metadata": {},
   "outputs": [],
   "source": [
    "# Contoh 4 (Contoh tidak perlu diberi comment)\n",
    "string_1 = \"m zaki nurkholis\"\n",
    "string_2 = \"hasan zein\"\n",
    "print(hamming_distance(string_1, string_2)) #error karena panjang string berbeda"
   ]
  },
  {
   "attachments": {},
   "cell_type": "markdown",
   "metadata": {},
   "source": [
    "Salah satu aplikasi dari ukuran ini adalah dalam typographical error detection (typo). Sebagai contoh, kata \"menerima\" dapat secara tidak sengaja ditulis sebagai \"menerims\". Nilai hamming distance nya adalah 1, yang berarti terdapat 1 huruf yang berbeda.\n",
    "\n",
    "Susunlah sebuah fungsi yang dapat memperbaiki typo dalam sebuah kalimat dengan menggunakan hamming distance. Uji fungsi yang telah Anda susun untuk memperbaiki kalimat-kalimat berikut. Tampilkan kalimat yang sudah diperbaiki.\n",
    "\n",
    "- aku asalah seornag mahssiswa\n",
    "- kacamsta adalah sebuah alat bsntu penhlihatan bagi pendertia rabun jauh\n",
    "\n",
    "Hint: Anda diberikan sebuah list yang berisi kata yang sering mengalami typo. Bandingkan masing-masing kata dalam kalimat diatas dengan kata yang tertera dalam list. Jika nilai Hamming distance nya <= 2, maka kemungkinan besar kata tersebut mengalami typo.\n",
    "\n",
    "Contoh:\n",
    "\n",
    "Kalimat yang diuji = 'sagu dua tgia'\n",
    "\n",
    "Kamus yang diberikan = ['satu', 'dua', 'tiga', 'empat']\n",
    "\n",
    "Cek kata pertama yaitu 'sagu' terhadap kamus. \n",
    "- Hamming distance 'sagu' dengan 'satu' adalah 1\n",
    "- Hamming distance 'sagu' dengan 'dua' tidak dapat dihitung karena perbedaan jumlah kata\n",
    "- Hamming distance 'satu' dengan 'tiga' adalah 3\n",
    "- Hamming distance 'satu' dengan 'empat' tidak dapat dihitung karena perbedaan jumlah kata\n",
    "\n",
    "Hamming distance terkecil adalah 1. Karena perbedaannya hanya pada 1 huruf, kemungkinan besar telah terjadi typo. Oleh karenanya, kita koreksi kata 'sagu' dengan 'satu'. \n",
    "\n",
    "Lakukan hal yang sama terhadap kata lainnya, yaitu 'dua' dan 'tgia'.\n",
    "\n",
    "Catatan: apabila kata yang typo tidak terdapat di kamus, maka tidak perlu diperbaiki (biarkan saja)."
   ]
  },
  {
   "cell_type": "code",
   "execution_count": 3,
   "metadata": {},
   "outputs": [
    {
     "name": "stdout",
     "output_type": "stream",
     "text": [
      " aku adalah seorang mahasiswa\n",
      "\n",
      " kacamata adalah sebuah alat bantu penglihatan bagi penderita rabun jauh\n",
      "\n"
     ]
    }
   ],
   "source": [
    "kamus = ['motor', 'penglihatan', 'mobil', 'pesawat', 'aku', 'kacamata', 'adalah', 'kuda', 'penderita', 'seorang', 'mahasiswa', 'menderita', 'bantu']\n",
    "kalimat_1 = 'aku asalah seornag mahssiswa'\n",
    "kalimat_2 = 'kacamsta adalah sebuah alat bsntu penhlihatan bagi pendertia rabun jauh'\n",
    "\n",
    "def cek_typo(kalimat):\n",
    "  output = '' #untuk menyimpan kalimat yang benar\n",
    "  for i in kalimat.split(' '): #iterate setiap kata dalam kalimat. variabel i berisi kata\n",
    "    lowest_distance = 9999 #siapkan sebuah variabel utk menyimpan jarak hamming terendah\n",
    "    correct_word = i #siapkan variabel utk menyimpan kata yang benar, nilai awalnya adalah i\n",
    "\n",
    "    if i in kamus: #cek apakah kata sudah ada di kamus\n",
    "      output = output+' '+i #jika ada, berarti bukan typo. simpan di output.\n",
    "      continue #karena bukan typo, maka kita bisa lanjut ke kata selanjutnya\n",
    "\n",
    "    for j in kamus: #iterate setiap kata dalam kamus. variabel j berisi kata di kamus.\n",
    "      if len(i) == len(j): #jika jumlah huruf i dan j berbeda, maka kita tidak bisa menghitung hamming distance\n",
    "        distance = hamming_distance(i, j) #hitung hamming distance\n",
    "\n",
    "        if distance < lowest_distance: #jika ternyata lebih kecil daripada jarak hamming yang sudah ada,...\n",
    "          lowest_distance = distance #replace nilai jarak hamming terendah\n",
    "          correct_word = j #replace kata yang benar\n",
    "\n",
    "    if lowest_distance > 2: #jika setelah pengecekan didapatkan jarak hamming yang besar (misal >2), ada kemungkinan bahwa ia bukan typo\n",
    "      output = output+ ' '+i \n",
    "    else:\n",
    "      output = output+' '+correct_word\n",
    "  print(output+'\\n')\n",
    "\n",
    "cek_typo(kalimat_1)\n",
    "cek_typo(kalimat_2)\n"
   ]
  }
 ],
 "metadata": {
  "kernelspec": {
   "display_name": ".venv",
   "language": "python",
   "name": "python3"
  },
  "language_info": {
   "codemirror_mode": {
    "name": "ipython",
    "version": 3
   },
   "file_extension": ".py",
   "mimetype": "text/x-python",
   "name": "python",
   "nbconvert_exporter": "python",
   "pygments_lexer": "ipython3",
   "version": "3.10.0"
  },
  "orig_nbformat": 4
 },
 "nbformat": 4,
 "nbformat_minor": 2
}
