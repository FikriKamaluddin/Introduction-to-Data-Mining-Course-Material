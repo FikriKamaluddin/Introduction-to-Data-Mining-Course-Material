{
  "cells": [
    {
      "cell_type": "markdown",
      "metadata": {
        "id": "x1HCNf72w-oF"
      },
      "source": [
        "## Petunjuk\n",
        "\n",
        "Tugas dibagi menjadi dua bagian, yaitu tugas python dan tugas teori pengantar data mining.\n",
        "\n",
        "Tugas dikumpulkan di ELOK berupa file rar/zip yang berisi:\n",
        "1. File pynb untuk tugas python \n",
        "2. File pdf untuk jawaban dengan tulisan tangan untuk soal teori.\n",
        "\n",
        "Format nama file : NAMA_NIU.\n",
        "(NIU : Nomor Induk Universitas yang terdiri dari 6 digit)\n",
        "\n",
        "Selamat mengerjakan.\n",
        "\n"
      ]
    },
    {
      "cell_type": "markdown",
      "metadata": {
        "id": "Zj3nvMMSwC5U"
      },
      "source": [
        "# Tugas Python"
      ]
    },
    {
      "cell_type": "markdown",
      "metadata": {
        "id": "wv4UXCb51Xet"
      },
      "source": [
        "### Case 1"
      ]
    },
    {
      "cell_type": "markdown",
      "metadata": {
        "id": "xkfo0hXP1b2u"
      },
      "source": [
        "Karyawan Perusahaan T memiliki gaji sebagai berikut\n",
        "\n",
        "|Nama Karyawan | Gaji|\n",
        "|-|-|\n",
        "|Wawan | 4.500.000|\n",
        "|Dilla | 4.000.000|\n",
        "|Leo | 4.000.000|\n",
        "|Ayu| 3.500.000|\n",
        "|Lutfi | 3.200.000|\n",
        "\n",
        "Buatlah sebuah dictionary untuk menyimpan nama dan gaji karyawan Perusahaan T.\n",
        "\n",
        "\n",
        "```\n",
        "Keterangan:\n",
        " - bentuk dictionary = {nama_karyawan:gaji}\n",
        "```"
      ]
    },
    {
      "cell_type": "code",
      "execution_count": null,
      "metadata": {
        "colab": {
          "base_uri": "https://localhost:8080/"
        },
        "id": "ZeXzGJkl0P2g",
        "outputId": "9ec5efed-d862-4889-c51f-7930f76a24a1"
      },
      "outputs": [
        {
          "name": "stdout",
          "output_type": "stream",
          "text": [
            "Gaji Wawan sebesar Rp 45000000 \n",
            "Gaji Dilla sebesar Rp 4000000 \n",
            "Gaji Leo sebesar Rp 4000000 \n",
            "Gaji Ayu sebesar Rp 3500000 \n",
            "Gaji Lutfi sebesar Rp 3200000 \n"
          ]
        }
      ],
      "source": [
        "# buat variabel dahulu untuk menyimpan dictionary-nya\n",
        "...\n",
        "\n",
        "# kemudian print gaji masing-masing karyawan\n",
        "..."
      ]
    },
    {
      "cell_type": "markdown",
      "metadata": {
        "id": "c0YRbkQP1NAO"
      },
      "source": [
        "### Case 2"
      ]
    },
    {
      "cell_type": "markdown",
      "metadata": {
        "id": "IjrWDQPbwIQx"
      },
      "source": [
        "Misalkan X adalah Nomor Induk Universitas anda yang terdiri dari 6 digit."
      ]
    },
    {
      "cell_type": "markdown",
      "metadata": {
        "id": "T_iJnmtwy3OC"
      },
      "source": [
        "Pada Supermarket A customer akan mendapatkan promo menarik jika:\n",
        "- Jika customer berbelanja di atas X rupiah akan mendapatkan diskon 5%\n",
        "- Jika customer berbelanja di atas X rupiah dan barang yang terakhir dibeli adalah \"Sate Cap Windbreaker\" akan mendapatkan diskon 15%\n",
        "- Jika customer berbelanja tidak di atas X rupiah tidak mendapatkan diskon\n",
        "\n",
        "Buatlah nested branch kondisi di atas dengan output berupa:\n",
        "\n",
        "```python\n",
        "Masukkan total belanja: ... (input number)\n",
        "Masukkan barang belanjaan yang anda terakhir beli: ... (input text)\n",
        "Total belanjaannya adalah ...\n",
        "```"
      ]
    },
    {
      "cell_type": "code",
      "execution_count": null,
      "metadata": {
        "id": "unSglzccza8H"
      },
      "outputs": [],
      "source": [
        "# Tuliskan jawaban anda di bawah ini\n",
        "..."
      ]
    },
    {
      "cell_type": "markdown",
      "metadata": {
        "id": "Ixm1g8Sx2dR9"
      },
      "source": [
        "### Case 3"
      ]
    },
    {
      "cell_type": "markdown",
      "metadata": {
        "id": "AZAlznq-51HS"
      },
      "source": [
        "Robert dan Jane pasangan yang baru menikah, namun karena satu dan lain hal biaya pernikahan melebihi budget yang di rencanakan. Karena itu, mereka harus berhemat untuk membayar selisih. \n",
        "\n",
        "Agar hemat, setiap berangkat kerja Robert membawa bekal yang di buat oleh Jane dengan menu yang berbeda setiap 3 hari. Menu yang di bawa yaitu:\n",
        "\n",
        "| Hari           | Bekal  |\n",
        "|----------------|--------|\n",
        "| Pertama        | Nasi + Telur  |\n",
        "| Kedua          | Nasi + Ikan |\n",
        "| Ketiga | Nasi + Tahu & Tempe  |"
      ]
    },
    {
      "cell_type": "markdown",
      "metadata": {
        "id": "pE3BLPFB6EiO"
      },
      "source": [
        "Selama satu bulan tentukan jadwal bekal yang dibawa oleh Robert.\n",
        "\n",
        "\n",
        "```\n",
        "Keterangan:\n",
        "- Asumsikan hari pertama = hari Senin = Tanggal 1\n",
        "- hari kerja dimulai dari Senin - Sabtu\n",
        "\n",
        "Petunjuk:\n",
        "- Gunakan fungsi for loop dan fungsi modulo\n",
        "```"
      ]
    },
    {
      "cell_type": "code",
      "execution_count": null,
      "metadata": {
        "colab": {
          "base_uri": "https://localhost:8080/"
        },
        "id": "aV2KY4Co56AN",
        "outputId": "f41fe0d0-3d1f-41df-db8a-3d412ddb39cc"
      },
      "outputs": [
        {
          "name": "stdout",
          "output_type": "stream",
          "text": [
            "Tanggal 1 Bekal Nasi + Telur\n",
            "Tanggal 2 Bekal Nasi + Ikan\n",
            "Tanggal 3 Bekal Nasi + Tahu dan Tempe\n",
            "Tanggal 4 Bekal Nasi + Ikan\n",
            "Tanggal 5 Bekal Nasi + Telur\n",
            "Tanggal 6 Bekal Nasi + Tahu dan Tempe\n",
            "7 libur\n",
            "Tanggal 8 Bekal Nasi + Ikan\n",
            "Tanggal 9 Bekal Nasi + Tahu dan Tempe\n",
            "Tanggal 10 Bekal Nasi + Ikan\n",
            "Tanggal 11 Bekal Nasi + Telur\n",
            "Tanggal 12 Bekal Nasi + Tahu dan Tempe\n",
            "Tanggal 13 Bekal Nasi + Telur\n",
            "14 libur\n",
            "Tanggal 15 Bekal Nasi + Tahu dan Tempe\n",
            "Tanggal 16 Bekal Nasi + Ikan\n",
            "Tanggal 17 Bekal Nasi + Telur\n",
            "Tanggal 18 Bekal Nasi + Tahu dan Tempe\n",
            "Tanggal 19 Bekal Nasi + Telur\n",
            "Tanggal 20 Bekal Nasi + Ikan\n",
            "21 libur\n",
            "Tanggal 22 Bekal Nasi + Ikan\n",
            "Tanggal 23 Bekal Nasi + Telur\n",
            "Tanggal 24 Bekal Nasi + Tahu dan Tempe\n",
            "Tanggal 25 Bekal Nasi + Telur\n",
            "Tanggal 26 Bekal Nasi + Ikan\n",
            "Tanggal 27 Bekal Nasi + Tahu dan Tempe\n",
            "28 libur\n",
            "Tanggal 29 Bekal Nasi + Telur\n",
            "Tanggal 30 Bekal Nasi + Tahu dan Tempe\n"
          ]
        }
      ],
      "source": [
        "# buat for loop yang bisa menentukan jadwal bekal yang dibawa\n",
        "\n",
        "# gunakan range untuk menentukan tanggal\n",
        "# sesuaikan dengan kondisi kerja seperti hari kerja dimulai dari senin - sabtu"
      ]
    },
    {
      "cell_type": "code",
      "execution_count": null,
      "metadata": {
        "id": "1idTrf6x6YPh"
      },
      "outputs": [],
      "source": []
    },
    {
      "cell_type": "markdown",
      "metadata": {
        "id": "MuRrLOwm7Cmm"
      },
      "source": [
        "# Tugas Pengantar Data Mining"
      ]
    },
    {
      "cell_type": "markdown",
      "metadata": {
        "id": "UJ2iN7XW7I0z"
      },
      "source": [
        "### Case 1\n",
        "\n",
        "Dalam data di dunia nyata, tupel dengan *missing values* untuk beberapa atribut merupakan suatu kejadian umum. Jelaskan berbagai metode untuk menangani masalah ini."
      ]
    },
    {
      "cell_type": "markdown",
      "metadata": {
        "id": "gOvBAxxg8Fjf"
      },
      "source": [
        "### Case 2\n",
        "\n",
        "Given the following data (in increasing order) for the attribute age: \n",
        "```\n",
        "14, 15, 16, 17, 19, 20, 21, 21, 22, 22, 25, 25, 26, 27, 30, 33, 33, 35, 35, 35, 35, 36, 40, 45, 46, 52, 70.\n",
        "```\n",
        "\n",
        "- Use smoothing by bin mean to smooth these data, using a bin depth of 3. Illustrate your steps. Comment on the effect of this technique for the given data.\n",
        "- How might you determine outliers in the data?\n",
        "- What other methods are there for data smoothing?"
      ]
    },
    {
      "cell_type": "code",
      "execution_count": null,
      "metadata": {
        "id": "nk_zTG89B8fK"
      },
      "outputs": [],
      "source": []
    }
  ],
  "metadata": {
    "colab": {
      "provenance": []
    },
    "kernelspec": {
      "display_name": "Python 3",
      "language": "python",
      "name": "python3"
    },
    "language_info": {
      "name": "python",
      "version": "3.10.9"
    },
    "vscode": {
      "interpreter": {
        "hash": "e9487f80b5c2735bbc4afc7489ff13f77596a62e20b78908b8eb2e8fe79271a4"
      }
    }
  },
  "nbformat": 4,
  "nbformat_minor": 0
}
